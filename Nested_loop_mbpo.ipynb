{
  "cells": [
    {
      "cell_type": "code",
      "execution_count": null,
      "metadata": {
        "id": "pNFDMSP1DNjk",
        "colab": {
          "base_uri": "https://localhost:8080/"
        },
        "outputId": "94a58ced-7dfa-4caa-996b-35b930acb162"
      },
      "outputs": [
        {
          "output_type": "stream",
          "name": "stdout",
          "text": [
            "Drive already mounted at /content/gdrive; to attempt to forcibly remount, call drive.mount(\"/content/gdrive\", force_remount=True).\n"
          ]
        }
      ],
      "source": [
        "import os\n",
        "import datetime\n",
        "from google.colab import drive\n",
        "drive.mount('/content/gdrive')\n",
        "\n",
        "os.chdir('/content/gdrive/My Drive/Reinforcement Learning/actor_critic/SAC')\n",
        "# !ls"
      ]
    },
    {
      "cell_type": "code",
      "execution_count": null,
      "metadata": {
        "id": "oA9v16lVtvca"
      },
      "outputs": [],
      "source": [
        "# !pip install wandb"
      ]
    },
    {
      "cell_type": "code",
      "execution_count": null,
      "metadata": {
        "id": "2PGCjMbMD2jw"
      },
      "outputs": [],
      "source": [
        "# !pip install ipympl"
      ]
    },
    {
      "cell_type": "code",
      "execution_count": null,
      "metadata": {
        "id": "9uiyvw2qEgqL"
      },
      "outputs": [],
      "source": [
        "from gym import Env\n",
        "from gym.spaces import Box\n",
        "import numpy as np\n",
        "import matplotlib.pyplot as plt\n",
        "import numpy as np\n",
        "from mbpo_elite import SAC_Agent\n",
        "from gym.utils import seeding\n",
        "from IPython.display import clear_output\n",
        "from scipy.fft import fft, ifft\n",
        "from scipy.interpolate import interp1d\n",
        "from scipy.io import loadmat,savemat\n",
        "import wandb\n",
        "from matplotlib import style\n",
        "import warnings\n",
        "warnings.filterwarnings(\"ignore\")\n",
        "import torch as T"
      ]
    },
    {
      "cell_type": "code",
      "source": [
        "# seed_value = 42\n",
        "# np.random.seed(seed_value)"
      ],
      "metadata": {
        "id": "akl9mskrAp-8"
      },
      "execution_count": null,
      "outputs": []
    },
    {
      "cell_type": "code",
      "execution_count": null,
      "metadata": {
        "id": "PDVVBmYyEil4"
      },
      "outputs": [],
      "source": [
        "def plot_learning_curve(x, scores, figure_file):\n",
        "  # style.use('ggplot')\n",
        "  running_avg = np.zeros(len(scores))\n",
        "  std = np.zeros(len(scores))\n",
        "  plt.figure(figsize=(10,7))\n",
        "\n",
        "  for i in range(len(running_avg)):\n",
        "      running_avg[i] = np.mean(scores[max(0, i-100):(i+1)])\n",
        "      std[i] = np.std(scores[max(0, i-100):(i+1)])\n",
        "\n",
        "  scores = np.array(scores)\n",
        "  cis = (running_avg-std,running_avg+std)\n",
        "  plt.fill_between(x,cis[0],cis[1],alpha=0.3,color='blueviolet')\n",
        "  plt.plot(x, running_avg,linewidth=1.5,color='blueviolet')\n",
        "  plt.title('Soft Actor Critic',fontsize=16,fontweight='bold')\n",
        "  plt.xlabel('Episode',fontsize=14,fontweight='bold',color='k')\n",
        "  plt.ylabel('Score of Agent',fontsize=14,fontweight='bold',color='k')\n",
        "  plt.legend(['Raw Score'],fontsize=14, loc='lower right')\n",
        "  plt.xticks(fontsize=14,color='k')\n",
        "  plt.yticks(fontsize=14,color='k')\n",
        "  # plt.savefig(figure_file)"
      ]
    },
    {
      "cell_type": "code",
      "execution_count": null,
      "metadata": {
        "id": "M0KYwQf_oF2R"
      },
      "outputs": [],
      "source": [
        "class CBC_Env(Env):\n",
        "    \n",
        "  def __init__(self, obs_dim,n_actions=3,action_scale=1,noise_scale=0.25,eps_len=500):\n",
        "    super(CBC_Env, self).__init__()\n",
        "    self.obs_dim = obs_dim\n",
        "    self.n_actions = n_actions\n",
        "    self.low = -action_scale*np.ones((self.n_actions,),dtype=np.float32)\n",
        "    self.high = action_scale*np.ones((self.n_actions),dtype=np.float32)\n",
        "    self.action_space =  Box(self.low,self.high)\n",
        "    self.observation_space = Box(low=-1, high=1, shape=(self.obs_dim,))        \n",
        "    self.eps_length=eps_len\n",
        "    self.reward = 0\n",
        "    self.done = False\n",
        "    self.s = []\n",
        "    self.noise_scale=noise_scale     \n",
        "    self.seed()\n",
        "      \n",
        "  def seed(self, seed=None):\n",
        "    self.np_random, seed = seeding.np_random(seed)\n",
        "    return [seed]\n",
        "\n",
        "  def env_pn(self,n_channel,cyc,delt):\n",
        "    data = loadmat('spline_fit.mat')\n",
        "    env_t = data['env_t']\n",
        "    env_1 = data['env_1']\n",
        "    f = interp1d(env_t[:,0], env_1[:,0], kind='cubic')\n",
        "    t_samp = np.arange(-4,-4+cyc,delt)\n",
        "    env_n = f(t_samp)\n",
        "    fft_env1 = fft(env_n)\n",
        "\n",
        "    P1a = np.ones((n_channel,len(env_n)), dtype=np.cdouble)\n",
        "    for ii in range(n_channel):\n",
        "      P1a[ii,:] = ifft(fft_env1*np.exp(1j*2*np.pi*np.random.rand(1,len(env_n))))\n",
        "\n",
        "    P1b = np.zeros((n_channel,len(env_n)))\n",
        "    for ii in range(n_channel):\n",
        "      P1b[ii,:] = (np.abs(P1a[ii,:])/np.mean(np.abs(P1a[ii,:])))-1\n",
        "\n",
        "    P1b_ = np.abs(P1b)\n",
        "    max_array = P1b_.max(axis=1)\n",
        "    P1 = np.arccos(np.transpose(P1b)/max_array)\n",
        "    return P1\n",
        "\n",
        "\n",
        "  def step(self, action):        \n",
        "\n",
        "    self.eps_cntr -= 1\n",
        "    cntr = self.eps_length-self.eps_cntr+self.obs_dim\n",
        "\n",
        "    inner1_control = np.array([action[0],0])\n",
        "    E_inner1 = np.exp(1j*(self.noise[cntr,0:2]+inner1_control))\n",
        "\n",
        "    inner2_control = np.array([action[1],0])\n",
        "    E_inner2 = np.exp(1j*(self.noise[cntr,2:4]+inner2_control))\n",
        "\n",
        "    E_outer = np.vstack((E_inner1.sum()*np.exp(1j*(self.noise[cntr,-2]+action[2])),E_inner2.sum()*np.exp(1j*self.noise[cntr,-1])))\n",
        "\n",
        "    I = np.abs(np.sum(E_outer))**2\n",
        "    self.state = np.append(self.state,I)\n",
        "    self.reward = I/16\n",
        "    \n",
        "    if self.eps_cntr == 0:\n",
        "        self.done = True\n",
        "    else:\n",
        "        self.done = False\n",
        "    info={}  \n",
        "\n",
        "    return 2*(self.state[-self.obs_dim:]/16)-1, 2*self.reward-1, self.done, info\n",
        "\n",
        "  def reset(self,ideal=False):\n",
        "      \n",
        "    self.eps_cntr = self.eps_length\n",
        "    self.noise = self.env_pn(2*self.n_actions,1*(self.obs_dim+\\\n",
        "                                                self.eps_length+10)*1e-6,1e-6)\n",
        "    self.noise = self.noise_scale*(2*self.noise-np.pi)\n",
        "    if ideal:\n",
        "      self.noise = np.zeros(self.noise.shape)\n",
        "    # self.phi/=np.pi\n",
        "    E_inner1 = np.exp(1j*self.noise[0:self.obs_dim,0:2])\n",
        "    E_inner2 = np.exp(1j*self.noise[0:self.obs_dim,2:4])\n",
        "    E_outer = np.vstack((E_inner1.sum(axis=1)*np.exp(1j*self.noise[0:self.obs_dim,-2]),E_inner2.sum(axis=1)*np.exp(1j*self.noise[0:self.obs_dim,-1]))).T\n",
        "    self.state = np.abs(np.sum(E_outer,axis=1))**2 \n",
        "    return 2*(self.state/16)-1\n",
        "\n",
        "  def render(self, title, eps_no, mode='human'):\n",
        "    if self.done == True:\n",
        "      plt.figure(figsize=(14,7))\n",
        "      plt.plot(self.state[-500:])\n",
        "      plt.xlabel('Steps', fontsize=16, fontweight='bold')\n",
        "      plt.ylabel('Normalized Intensity (a.u.)', fontsize=16, fontweight='bold')\n",
        "      plt.title(title, fontsize=18, fontweight='bold')\n",
        "      plt.xticks(fontsize=16)\n",
        "      plt.yticks(fontsize=16)\n",
        "      plt.grid()\n",
        "      plt.ylim(0,self.observation_space.high[0])\n",
        "      plt.savefig('./sac_8_arm/eps_{_i}.png'.format(_i=eps_no))\n",
        "      print('saved ' + 'eps_{_i}.png'.format(_i=eps_no))     \n",
        "      plt.close()   "
      ]
    },
    {
      "cell_type": "code",
      "source": [
        "n_actions = 3\n",
        "action_scale = np.pi\n",
        "noise_scale=0.5\n",
        "eps_len = int(1e3)\n",
        "env = CBC_Env(obs_dim=100,n_actions=n_actions,action_scale=action_scale,noise_scale=noise_scale,eps_len=eps_len)\n",
        "config = {'alpha':3e-4,'beta':3e-4,'tau':5e-3,'model_lr':1e-3,'input_dims':env.observation_space.shape,'env_id':'nested_loop_'+str(noise_scale).replace(\".\", \"_\"),'n_actions':3,'ac_batch_size':256,\\\n",
        "          'model_batch_size':512, 'n_models':10,'rollout_len':1,'fake_ratio':0.6,'gamma':0.99,'model_weight_decay':1e-4,'layer1_size':256,'layer2_size':256,\\\n",
        "          'use_model':False,'use_bn':True,'n_elites':8,'n_games':6000,'model_train_freq':250,'num_grad_updates':500,'n_ac_steps':20,'random_steps':500,'act_dist':'normal',\\\n",
        "          'noise_scale':noise_scale,'eps_len':eps_len}"
      ],
      "metadata": {
        "id": "kAM-RTJC4YVn"
      },
      "execution_count": null,
      "outputs": []
    },
    {
      "cell_type": "code",
      "source": [
        "# %%wandb\n",
        "\n",
        "agent = SAC_Agent(alpha=config['alpha'],beta=config['beta'],tau=config['tau'],env=env,input_dims=config['input_dims'],env_id=config['env_id'],\\\n",
        "                  n_actions=config['n_actions'],ac_batch_size=config['ac_batch_size'],model_batch_size=config['model_batch_size'],n_models=config['n_models'],\\\n",
        "                  n_elites=config['n_elites'],rollout_len=config['rollout_len'],layer1_size=config['layer1_size'],layer2_size=config['layer2_size'],weight_decay=config['model_weight_decay'],\\\n",
        "                  no_bad_state=True,use_model=config['use_model'],use_bn=config['use_bn'],model_lr=config['model_lr'],act_dist=config['act_dist'])\n",
        "\n",
        "wandb.init(project=\"cbc_normal\", entity=\"viswa_ee\",config=config)\n",
        "wandb.run.name = config['env_id']\n",
        "wandb.watch(agent.actor,log='all',log_freq=100)\n",
        "wandb.watch(agent.critic_1,log='all',log_freq=100)\n",
        "\n",
        "print(agent.actor)\n",
        "print(agent.critic_1)\n",
        "\n",
        "if config['use_model']:\n",
        "  print(agent.models.models[0])\n",
        "  wandb.watch(agent.models.models[0],log='all',log_freq=100)\n",
        "score_hist = []\n",
        "best_score = env.reward_range[0]\n",
        "l1_eval_prev = []\n",
        "l1_eval_curr = []\n",
        "t_step = 0\n",
        "\n",
        "log={}\n",
        "for game in range(config['n_games']):\n",
        "  obs = env.reset()\n",
        "  done = False\n",
        "  score = 0\n",
        "  if config['use_model']:\n",
        "    log['rollout_len'] = agent.rollout_len\n",
        "  while not done:\n",
        "    t_step += 1\n",
        "    action = agent.choose_action(obs)\n",
        "    for k in range(n_actions):\n",
        "      log['action_{_i}'.format(_i=k+1)] = action[k]\n",
        "    obs_,reward,done,info = env.step(action)\n",
        "    score += reward\n",
        "    log['reward'] = reward\n",
        "    agent.remember(obs,action,reward,obs_,True)  #done is always True as it is a continuing task\n",
        "    \n",
        "    if config['use_model']:\n",
        "      \n",
        "      if agent.real_mem_ready() and t_step%config['model_train_freq']==0:\n",
        "        for _ in range(config['num_grad_updates']):\n",
        "          log['loss_train'],log['l1_eval'],log['r_corr_s'],log['r_corr_r'] = agent.train_model()\n",
        "          l1_eval_curr.append(log['l1_eval'])\n",
        "          \n",
        "          if log['l1_eval'] <= 1e-3:\n",
        "            agent.fake_ratio\n",
        "\n",
        "      if t_step>25*100:\n",
        "        if agent.real_mem_ready():\n",
        "          agent.generate_efficient(config['n_ac_steps'])\n",
        "          log['fake_buffer_size'] = agent.fake_memory.mem_cntr\n",
        "        for _ in range(config['n_ac_steps']):\n",
        "          if agent.fake_mem_ready() and t_step>config['random_steps']:\n",
        "            log['actor loss'],log['critic loss'],log['entropy loss'],log['entropy coeff'] = agent.train_ac()\n",
        "    else:\n",
        "      if agent.real_mem_ready():\n",
        "        log['actor loss'],log['critic loss'],log['entropy loss'],log['entropy coeff'] = agent.train_ac()\n",
        "\n",
        "    obs=obs_\n",
        "    wandb.log(log)\n",
        "  if config['use_model'] == True:\n",
        "    if len(l1_eval_prev)>0:\n",
        "      if np.mean(l1_eval_prev)>np.mean(l1_eval_curr) and game>20:\n",
        "        agent.rollout_len += 10\n",
        "      elif np.mean(l1_eval_prev)<np.mean(l1_eval_curr):\n",
        "        agent.rollout_len = max(1,agent.rollout_len-5)\n",
        "    l1_eval_prev = l1_eval_curr\n",
        "    l1_eval_curr = []\n",
        "  # env.render(title='Episode No. {_eps_no}'.format(_eps_no = i), eps_no=i, mode='human')\n",
        "  score_hist.append(score)\n",
        "  avg_score = np.mean(score_hist[-100:])\n",
        "  \n",
        "  if avg_score > best_score:\n",
        "    print('... saving ...')\n",
        "    agent.save_models()\n",
        "    # T.jit.save(agent.actor,agent.actor.chkpt_file)\n",
        "\n",
        "    best_score = avg_score\n",
        "  print('episode ', game, 'score %.1f' % score,\n",
        "          'average score %.1f' % avg_score, 'best score %0.1f'%best_score,'steps:',t_step)\n",
        "  # if avg_score>=490:\n",
        "  #   break"
      ],
      "metadata": {
        "colab": {
          "base_uri": "https://localhost:8080/",
          "height": 1000,
          "referenced_widgets": [
            "f3e0e9469b964077a748921b755fd3cf",
            "b60e181f83844876972a9e390ce27098",
            "bc430289c31a47a28601c1a26d5ab873",
            "4be7929f11ff44b8861b76efad647dc2",
            "77da0af664314748823b74ad065f6eaf",
            "b5f4f3e5872e45588f4b3c1dfe98a929",
            "8bb3d786c5324e70bb574eed885009b8",
            "b68835d7ace64b25a837bf0483f47a78"
          ]
        },
        "id": "Ett5BIGbi1mK",
        "outputId": "87356f81-dbbd-4e9c-91e3-80f579804bd2"
      },
      "execution_count": null,
      "outputs": [
        {
          "output_type": "display_data",
          "data": {
            "text/plain": [
              "<IPython.core.display.HTML object>"
            ],
            "text/html": [
              "Finishing last run (ID:81zoj2ul) before initializing another..."
            ]
          },
          "metadata": {}
        },
        {
          "output_type": "display_data",
          "data": {
            "text/plain": [
              "<IPython.core.display.HTML object>"
            ],
            "text/html": [
              "Waiting for W&B process to finish... <strong style=\"color:green\">(success).</strong>"
            ]
          },
          "metadata": {}
        },
        {
          "output_type": "display_data",
          "data": {
            "text/plain": [
              "VBox(children=(Label(value='0.001 MB of 0.001 MB uploaded (0.000 MB deduped)\\r'), FloatProgress(value=1.0, max…"
            ],
            "application/vnd.jupyter.widget-view+json": {
              "version_major": 2,
              "version_minor": 0,
              "model_id": "f3e0e9469b964077a748921b755fd3cf"
            }
          },
          "metadata": {}
        },
        {
          "output_type": "display_data",
          "data": {
            "text/plain": [
              "<IPython.core.display.HTML object>"
            ],
            "text/html": [
              "<style>\n",
              "    table.wandb td:nth-child(1) { padding: 0 10px; text-align: left ; width: auto;} td:nth-child(2) {text-align: left ; width: 100%}\n",
              "    .wandb-row { display: flex; flex-direction: row; flex-wrap: wrap; justify-content: flex-start; width: 100% }\n",
              "    .wandb-col { display: flex; flex-direction: column; flex-basis: 100%; flex: 1; padding: 10px; }\n",
              "    </style>\n",
              "<div class=\"wandb-row\"><div class=\"wandb-col\"><h3>Run history:</h3><br/><table class=\"wandb\"><tr><td>action_1</td><td>▂▁█▄▂█▅███▄▂▁▆▃▅▂▅▄▂▂▂▅▃▇▄▂▅▃▁▄▄▂▅▅▆▃▂▅▂</td></tr><tr><td>action_2</td><td>▄▅▂▂▆▄▇▇▅▁▁▁█▂▄██▁▁▁▂▄▂▅▂▂▄▆▂▃▂▃▇▆▃▄▃▃▂▂</td></tr><tr><td>action_3</td><td>▃▅▄▆▂▇▂▄▄▆▇▇▂▂█▂▆▇▇▇▇▃▁▆███▄▅▂▁▅▇▃▃██▃▁▁</td></tr><tr><td>actor loss</td><td>▁▆▅▅▅▆▅▆▅▆▅▆▆▅▆▆▆▆▆▆▆▆▇▇▆▆▆▇▇▇█████▇█▇▇█</td></tr><tr><td>critic loss</td><td>█▅▄▄▄▂▃▃▃▃▂▂▂▂▂▂▂▂▁▁▁▁▁▁▁▁▁▁▁▁▁▁▁▁▁▁▁▁▁▁</td></tr><tr><td>entropy coeff</td><td>███▇▇▇▇▇▇▆▆▆▆▆▅▅▅▅▅▅▄▄▄▄▄▃▃▃▃▃▃▂▂▂▂▂▂▁▁▁</td></tr><tr><td>entropy loss</td><td>███▇▇▇▇▇▇▆▆▆▆▆▆▅▅▅▅▅▄▄▄▄▄▄▃▃▃▃▃▂▂▂▂▂▂▁▁▁</td></tr><tr><td>reward</td><td>▁▃▁▃▃▂▁▄▄▂▂▁▁▄▂▂▃▄▁▁▁▆▄▃▄▃▂█▁▂▃▅▄▆▅▁▂▁▁▂</td></tr></table><br/></div><div class=\"wandb-col\"><h3>Run summary:</h3><br/><table class=\"wandb\"><tr><td>action_1</td><td>1.07696</td></tr><tr><td>action_2</td><td>1.96677</td></tr><tr><td>action_3</td><td>-1.36777</td></tr><tr><td>actor loss</td><td>-1.19924</td></tr><tr><td>critic loss</td><td>0.01509</td></tr><tr><td>entropy coeff</td><td>0.86421</td></tr><tr><td>entropy loss</td><td>-0.73089</td></tr><tr><td>reward</td><td>-0.99539</td></tr></table><br/></div></div>"
            ]
          },
          "metadata": {}
        },
        {
          "output_type": "display_data",
          "data": {
            "text/plain": [
              "<IPython.core.display.HTML object>"
            ],
            "text/html": [
              " View run <strong style=\"color:#cdcd00\">denim-serenity-202</strong> at: <a href='https://wandb.ai/viswa_ee/cbc_normal/runs/81zoj2ul' target=\"_blank\">https://wandb.ai/viswa_ee/cbc_normal/runs/81zoj2ul</a><br/>Synced 5 W&B file(s), 0 media file(s), 0 artifact file(s) and 0 other file(s)"
            ]
          },
          "metadata": {}
        },
        {
          "output_type": "display_data",
          "data": {
            "text/plain": [
              "<IPython.core.display.HTML object>"
            ],
            "text/html": [
              "Find logs at: <code>./wandb/run-20230602_103344-81zoj2ul/logs</code>"
            ]
          },
          "metadata": {}
        },
        {
          "output_type": "display_data",
          "data": {
            "text/plain": [
              "<IPython.core.display.HTML object>"
            ],
            "text/html": [
              "Successfully finished last run (ID:81zoj2ul). Initializing new run:<br/>"
            ]
          },
          "metadata": {}
        },
        {
          "output_type": "display_data",
          "data": {
            "text/plain": [
              "<IPython.core.display.HTML object>"
            ],
            "text/html": [
              "Tracking run with wandb version 0.15.3"
            ]
          },
          "metadata": {}
        },
        {
          "output_type": "display_data",
          "data": {
            "text/plain": [
              "<IPython.core.display.HTML object>"
            ],
            "text/html": [
              "Run data is saved locally in <code>/content/gdrive/My Drive/Reinforcement Learning/actor_critic/SAC/wandb/run-20230602_103421-wrzlkkyp</code>"
            ]
          },
          "metadata": {}
        },
        {
          "output_type": "display_data",
          "data": {
            "text/plain": [
              "<IPython.core.display.HTML object>"
            ],
            "text/html": [
              "Syncing run <strong><a href='https://wandb.ai/viswa_ee/cbc_normal/runs/wrzlkkyp' target=\"_blank\">resilient-pine-203</a></strong> to <a href='https://wandb.ai/viswa_ee/cbc_normal' target=\"_blank\">Weights & Biases</a> (<a href='https://wandb.me/run' target=\"_blank\">docs</a>)<br/>"
            ]
          },
          "metadata": {}
        },
        {
          "output_type": "display_data",
          "data": {
            "text/plain": [
              "<IPython.core.display.HTML object>"
            ],
            "text/html": [
              " View project at <a href='https://wandb.ai/viswa_ee/cbc_normal' target=\"_blank\">https://wandb.ai/viswa_ee/cbc_normal</a>"
            ]
          },
          "metadata": {}
        },
        {
          "output_type": "display_data",
          "data": {
            "text/plain": [
              "<IPython.core.display.HTML object>"
            ],
            "text/html": [
              " View run at <a href='https://wandb.ai/viswa_ee/cbc_normal/runs/wrzlkkyp' target=\"_blank\">https://wandb.ai/viswa_ee/cbc_normal/runs/wrzlkkyp</a>"
            ]
          },
          "metadata": {}
        },
        {
          "output_type": "stream",
          "name": "stdout",
          "text": [
            "ActorNetwork(\n",
            "  (fc1): Linear(in_features=100, out_features=256, bias=True)\n",
            "  (fc2): Linear(in_features=256, out_features=256, bias=True)\n",
            "  (mu): Linear(in_features=256, out_features=3, bias=True)\n",
            "  (sigma): Linear(in_features=256, out_features=3, bias=True)\n",
            ")\n",
            "CriticNetwork(\n",
            "  (fc1): Linear(in_features=103, out_features=256, bias=True)\n",
            "  (fc2): Linear(in_features=256, out_features=256, bias=True)\n",
            "  (q1): Linear(in_features=256, out_features=1, bias=True)\n",
            ")\n",
            "... saving ...\n",
            ".... saving models ....\n",
            "episode  0 score -514.3 average score -514.3 best score -514.3 steps: 1000\n",
            "... saving ...\n",
            ".... saving models ....\n",
            "episode  1 score -467.9 average score -491.1 best score -491.1 steps: 2000\n",
            "... saving ...\n",
            ".... saving models ....\n",
            "episode  2 score -436.2 average score -472.8 best score -472.8 steps: 3000\n",
            "... saving ...\n",
            ".... saving models ....\n",
            "episode  3 score -432.9 average score -462.8 best score -462.8 steps: 4000\n",
            "... saving ...\n",
            ".... saving models ....\n",
            "episode  4 score -317.1 average score -433.7 best score -433.7 steps: 5000\n",
            "... saving ...\n",
            ".... saving models ....\n",
            "episode  5 score -209.6 average score -396.3 best score -396.3 steps: 6000\n",
            "... saving ...\n",
            ".... saving models ....\n",
            "episode  6 score -23.0 average score -343.0 best score -343.0 steps: 7000\n",
            "... saving ...\n",
            ".... saving models ....\n",
            "episode  7 score 325.0 average score -259.5 best score -259.5 steps: 8000\n",
            "... saving ...\n",
            ".... saving models ....\n",
            "episode  8 score 162.4 average score -212.6 best score -212.6 steps: 9000\n",
            "... saving ...\n",
            ".... saving models ....\n",
            "episode  9 score 472.3 average score -144.1 best score -144.1 steps: 10000\n",
            "... saving ...\n",
            ".... saving models ....\n",
            "episode  10 score 414.2 average score -93.4 best score -93.4 steps: 11000\n",
            "... saving ...\n",
            ".... saving models ....\n",
            "episode  11 score 600.9 average score -35.5 best score -35.5 steps: 12000\n",
            "... saving ...\n",
            ".... saving models ....\n",
            "episode  12 score 321.7 average score -8.0 best score -8.0 steps: 13000\n",
            "... saving ...\n",
            ".... saving models ....\n",
            "episode  13 score 538.5 average score 31.0 best score 31.0 steps: 14000\n",
            "... saving ...\n",
            ".... saving models ....\n",
            "episode  14 score 587.2 average score 68.1 best score 68.1 steps: 15000\n",
            "... saving ...\n",
            ".... saving models ....\n",
            "episode  15 score 715.4 average score 108.5 best score 108.5 steps: 16000\n",
            "... saving ...\n",
            ".... saving models ....\n",
            "episode  16 score 584.6 average score 136.5 best score 136.5 steps: 17000\n",
            "... saving ...\n",
            ".... saving models ....\n",
            "episode  17 score 487.3 average score 156.0 best score 156.0 steps: 18000\n",
            "... saving ...\n",
            ".... saving models ....\n",
            "episode  18 score 543.5 average score 176.4 best score 176.4 steps: 19000\n",
            "... saving ...\n",
            ".... saving models ....\n",
            "episode  19 score 485.3 average score 191.9 best score 191.9 steps: 20000\n",
            "... saving ...\n",
            ".... saving models ....\n",
            "episode  20 score 592.3 average score 210.9 best score 210.9 steps: 21000\n",
            "... saving ...\n",
            ".... saving models ....\n",
            "episode  21 score 484.2 average score 223.4 best score 223.4 steps: 22000\n",
            "... saving ...\n",
            ".... saving models ....\n",
            "episode  22 score 591.7 average score 239.4 best score 239.4 steps: 23000\n",
            "... saving ...\n",
            ".... saving models ....\n",
            "episode  23 score 509.9 average score 250.6 best score 250.6 steps: 24000\n",
            "... saving ...\n",
            ".... saving models ....\n",
            "episode  24 score 452.8 average score 258.7 best score 258.7 steps: 25000\n",
            "... saving ...\n",
            ".... saving models ....\n",
            "episode  25 score 510.1 average score 268.4 best score 268.4 steps: 26000\n",
            "... saving ...\n",
            ".... saving models ....\n",
            "episode  26 score 536.2 average score 278.3 best score 278.3 steps: 27000\n",
            "... saving ...\n",
            ".... saving models ....\n",
            "episode  27 score 555.9 average score 288.2 best score 288.2 steps: 28000\n",
            "... saving ...\n",
            ".... saving models ....\n",
            "episode  28 score 628.3 average score 300.0 best score 300.0 steps: 29000\n",
            "... saving ...\n",
            ".... saving models ....\n",
            "episode  29 score 548.2 average score 308.2 best score 308.2 steps: 30000\n",
            "... saving ...\n",
            ".... saving models ....\n",
            "episode  30 score 477.7 average score 313.7 best score 313.7 steps: 31000\n",
            "... saving ...\n",
            ".... saving models ....\n",
            "episode  31 score 549.9 average score 321.1 best score 321.1 steps: 32000\n",
            "... saving ...\n",
            ".... saving models ....\n",
            "episode  32 score 509.2 average score 326.8 best score 326.8 steps: 33000\n",
            "... saving ...\n",
            ".... saving models ....\n",
            "episode  33 score 561.3 average score 333.7 best score 333.7 steps: 34000\n",
            "... saving ...\n",
            ".... saving models ....\n",
            "episode  34 score 644.6 average score 342.6 best score 342.6 steps: 35000\n",
            "... saving ...\n",
            ".... saving models ....\n",
            "episode  35 score 574.7 average score 349.0 best score 349.0 steps: 36000\n",
            "... saving ...\n",
            ".... saving models ....\n",
            "episode  36 score 389.6 average score 350.1 best score 350.1 steps: 37000\n",
            "... saving ...\n",
            ".... saving models ....\n",
            "episode  37 score 606.0 average score 356.8 best score 356.8 steps: 38000\n",
            "episode  38 score 324.6 average score 356.0 best score 356.8 steps: 39000\n",
            "episode  39 score 328.0 average score 355.3 best score 356.8 steps: 40000\n",
            "... saving ...\n",
            ".... saving models ....\n",
            "episode  40 score 584.9 average score 360.9 best score 360.9 steps: 41000\n",
            "... saving ...\n",
            ".... saving models ....\n",
            "episode  41 score 459.0 average score 363.3 best score 363.3 steps: 42000\n",
            "... saving ...\n",
            ".... saving models ....\n",
            "episode  42 score 488.7 average score 366.2 best score 366.2 steps: 43000\n",
            "... saving ...\n",
            ".... saving models ....\n",
            "episode  43 score 509.2 average score 369.4 best score 369.4 steps: 44000\n",
            "episode  44 score 340.1 average score 368.8 best score 369.4 steps: 45000\n",
            "... saving ...\n",
            ".... saving models ....\n",
            "episode  45 score 471.8 average score 371.0 best score 371.0 steps: 46000\n",
            "... saving ...\n",
            ".... saving models ....\n",
            "episode  46 score 549.8 average score 374.8 best score 374.8 steps: 47000\n",
            "... saving ...\n",
            ".... saving models ....\n",
            "episode  47 score 619.6 average score 379.9 best score 379.9 steps: 48000\n",
            "episode  48 score 193.0 average score 376.1 best score 379.9 steps: 49000\n",
            "... saving ...\n",
            ".... saving models ....\n",
            "episode  49 score 616.4 average score 380.9 best score 380.9 steps: 50000\n",
            "... saving ...\n",
            ".... saving models ....\n",
            "episode  50 score 467.4 average score 382.6 best score 382.6 steps: 51000\n",
            "... saving ...\n",
            ".... saving models ....\n",
            "episode  51 score 462.9 average score 384.1 best score 384.1 steps: 52000\n",
            "... saving ...\n",
            ".... saving models ....\n",
            "episode  52 score 486.8 average score 386.1 best score 386.1 steps: 53000\n",
            "... saving ...\n",
            ".... saving models ....\n",
            "episode  53 score 446.8 average score 387.2 best score 387.2 steps: 54000\n",
            "... saving ...\n",
            ".... saving models ....\n",
            "episode  54 score 505.4 average score 389.4 best score 389.4 steps: 55000\n",
            "... saving ...\n",
            ".... saving models ....\n",
            "episode  55 score 695.4 average score 394.8 best score 394.8 steps: 56000\n",
            "episode  56 score 253.1 average score 392.3 best score 394.8 steps: 57000\n",
            "... saving ...\n",
            ".... saving models ....\n",
            "episode  57 score 674.2 average score 397.2 best score 397.2 steps: 58000\n",
            "... saving ...\n",
            ".... saving models ....\n",
            "episode  58 score 596.0 average score 400.6 best score 400.6 steps: 59000\n",
            "... saving ...\n",
            ".... saving models ....\n",
            "episode  59 score 577.7 average score 403.5 best score 403.5 steps: 60000\n",
            "... saving ...\n",
            ".... saving models ....\n",
            "episode  60 score 483.9 average score 404.8 best score 404.8 steps: 61000\n",
            "... saving ...\n",
            ".... saving models ....\n",
            "episode  61 score 574.9 average score 407.6 best score 407.6 steps: 62000\n",
            "... saving ...\n",
            ".... saving models ....\n",
            "episode  62 score 498.1 average score 409.0 best score 409.0 steps: 63000\n",
            "episode  63 score 352.3 average score 408.1 best score 409.0 steps: 64000\n",
            "... saving ...\n",
            ".... saving models ....\n",
            "episode  64 score 519.1 average score 409.8 best score 409.8 steps: 65000\n",
            "... saving ...\n",
            ".... saving models ....\n",
            "episode  65 score 424.2 average score 410.1 best score 410.1 steps: 66000\n",
            "... saving ...\n",
            ".... saving models ....\n",
            "episode  66 score 495.9 average score 411.3 best score 411.3 steps: 67000\n",
            "episode  67 score 387.6 average score 411.0 best score 411.3 steps: 68000\n",
            "... saving ...\n",
            ".... saving models ....\n",
            "episode  68 score 498.1 average score 412.2 best score 412.2 steps: 69000\n",
            "episode  69 score 364.4 average score 411.6 best score 412.2 steps: 70000\n",
            "episode  70 score 417.1 average score 411.6 best score 412.2 steps: 71000\n",
            "episode  71 score 348.5 average score 410.8 best score 412.2 steps: 72000\n",
            "episode  72 score 426.2 average score 411.0 best score 412.2 steps: 73000\n",
            "... saving ...\n",
            ".... saving models ....\n",
            "episode  73 score 606.4 average score 413.6 best score 413.6 steps: 74000\n",
            "... saving ...\n",
            ".... saving models ....\n",
            "episode  74 score 513.4 average score 414.9 best score 414.9 steps: 75000\n",
            "... saving ...\n",
            ".... saving models ....\n",
            "episode  75 score 657.2 average score 418.1 best score 418.1 steps: 76000\n",
            "episode  76 score 288.1 average score 416.4 best score 418.1 steps: 77000\n",
            "... saving ...\n",
            ".... saving models ....\n",
            "episode  77 score 602.0 average score 418.8 best score 418.8 steps: 78000\n",
            "episode  78 score 282.3 average score 417.1 best score 418.8 steps: 79000\n",
            "episode  79 score 340.0 average score 416.1 best score 418.8 steps: 80000\n"
          ]
        }
      ]
    },
    {
      "cell_type": "code",
      "source": [
        "# x = [i+1 for i in range(len(score_hist))]\n",
        "# plot_learning_curve(x, score_hist, filename)"
      ],
      "metadata": {
        "id": "EaqEF0r48_XK"
      },
      "execution_count": null,
      "outputs": []
    },
    {
      "cell_type": "code",
      "source": [
        "agent = SAC_Agent(alpha=config['alpha'],beta=config['beta'],tau=config['tau'],env=env,input_dims=config['input_dims'],env_id=config['env_id'],\\\n",
        "                  n_actions=config['n_actions'],ac_batch_size=config['ac_batch_size'],model_batch_size=config['model_batch_size'],n_models=config['n_models'],\\\n",
        "                  n_elites=config['n_elites'],rollout_len=config['rollout_len'],layer1_size=config['layer1_size'],layer2_size=config['layer2_size'],weight_decay=config['model_weight_decay'],\\\n",
        "                  no_bad_state=True,use_model=config['use_model'],use_bn=config['use_bn'],model_lr=config['model_lr'],act_dist=config['act_dist'])\n",
        "agent.load_models()\n",
        "agent.actor.eval()"
      ],
      "metadata": {
        "colab": {
          "base_uri": "https://localhost:8080/"
        },
        "id": "UtSq9QZT5_-9",
        "outputId": "110e6cff-7f4a-48da-af8a-4af39a0b510e"
      },
      "execution_count": null,
      "outputs": [
        {
          "output_type": "stream",
          "name": "stdout",
          "text": [
            ".... loading models ....\n"
          ]
        }
      ]
    },
    {
      "cell_type": "code",
      "source": [
        "eps_len = int(1e4)\n",
        "env = CBC_Env(obs_dim=100,n_actions=n_actions,action_scale=action_scale,noise_scale=0.25,eps_len=eps_len)"
      ],
      "metadata": {
        "id": "whJ2jB0_6v-S"
      },
      "execution_count": null,
      "outputs": []
    },
    {
      "cell_type": "code",
      "source": [
        "for game in range(10):\n",
        "  obs = env.reset()\n",
        "  done = False\n",
        "  score = 0\n",
        "  while not done:\n",
        "    # t_step += 1\n",
        "    action = agent.choose_action(obs,deterministic=True)\n",
        "    obs_,reward,done,info = env.step(action)\n",
        "    score += reward\n",
        "    agent.remember(obs,action,reward,obs_,True)  #done is always True as it is a continuing task\n",
        "\n",
        "  print('episode: ', game, 'score: ', np.array(score)/eps_len)\n",
        "  # if avg_score>=490:\n",
        "  #   break"
      ],
      "metadata": {
        "colab": {
          "base_uri": "https://localhost:8080/"
        },
        "id": "_nITTUo3JSZ5",
        "outputId": "8be32a09-6b55-4f10-adca-d9181e95ab05"
      },
      "execution_count": null,
      "outputs": [
        {
          "output_type": "stream",
          "name": "stdout",
          "text": [
            "episode:  0 score:  0.828314528800985\n",
            "episode:  1 score:  0.8411178784015579\n",
            "episode:  2 score:  0.8747230442588998\n",
            "episode:  3 score:  0.8590785028753071\n",
            "episode:  4 score:  0.8849849634990502\n",
            "episode:  5 score:  0.8691191341530815\n",
            "episode:  6 score:  0.8243375006774933\n",
            "episode:  7 score:  0.8610833255858282\n",
            "episode:  8 score:  0.8838833342652308\n",
            "episode:  9 score:  0.8887231829555571\n"
          ]
        }
      ]
    },
    {
      "cell_type": "code",
      "source": [
        "agent2 = SAC_Agent(alpha=config['alpha'],beta=config['beta'],tau=config['tau'],env=env,input_dims=config['input_dims'],env_id=config['env_id'],\\\n",
        "                  n_actions=config['n_actions'],ac_batch_size=config['ac_batch_size'],model_batch_size=config['model_batch_size'],n_models=config['n_models'],\\\n",
        "                  n_elites=config['n_elites'],rollout_len=config['rollout_len'],layer1_size=config['layer1_size'],layer2_size=config['layer2_size'],weight_decay=config['model_weight_decay'],\\\n",
        "                  no_bad_state=True,use_model=config['use_model'],use_bn=config['use_bn'],model_lr=config['model_lr'],act_dist=config['act_dist'])"
      ],
      "metadata": {
        "id": "p3q8VLTg5um1"
      },
      "execution_count": null,
      "outputs": []
    },
    {
      "cell_type": "code",
      "source": [
        "agent2.load_models()"
      ],
      "metadata": {
        "colab": {
          "base_uri": "https://localhost:8080/"
        },
        "id": "nc-56E6x50Ji",
        "outputId": "8808f145-9839-4527-a564-e449e351e37f"
      },
      "execution_count": null,
      "outputs": [
        {
          "output_type": "stream",
          "name": "stdout",
          "text": [
            ".... loading models ....\n"
          ]
        }
      ]
    },
    {
      "cell_type": "code",
      "source": [
        "plt.plot(env.noise[:,0])"
      ],
      "metadata": {
        "colab": {
          "base_uri": "https://localhost:8080/",
          "height": 450
        },
        "id": "qQ7l8QFp718d",
        "outputId": "3f072ae4-aa4d-4824-f575-9d6989d14525"
      },
      "execution_count": null,
      "outputs": [
        {
          "output_type": "execute_result",
          "data": {
            "text/plain": [
              "[<matplotlib.lines.Line2D at 0x7f0cc7467c70>]"
            ]
          },
          "metadata": {},
          "execution_count": 26
        },
        {
          "output_type": "display_data",
          "data": {
            "text/plain": [
              "<Figure size 640x480 with 1 Axes>"
            ],
            "image/png": "[encoded data removed]"
          },
          "metadata": {}
        }
      ]
    }
  ],
  "metadata": {
    "accelerator": "GPU",
    "colab": {
      "provenance": [],
      "gpuType": "T4"
    },
    "kernelspec": {
      "display_name": "Python 3",
      "name": "python3"
    },
    "language_info": {
      "name": "python"
    },
    "widgets": {
      "application/vnd.jupyter.widget-state+json": {
        "f3e0e9469b964077a748921b755fd3cf": {
          "model_module": "@jupyter-widgets/controls",
          "model_name": "VBoxModel",
          "model_module_version": "1.5.0",
          "state": {
            "_dom_classes": [],
            "_model_module": "@jupyter-widgets/controls",
            "_model_module_version": "1.5.0",
            "_model_name": "VBoxModel",
            "_view_count": null,
            "_view_module": "@jupyter-widgets/controls",
            "_view_module_version": "1.5.0",
            "_view_name": "VBoxView",
            "box_style": "",
            "children": [
              "IPY_MODEL_b60e181f83844876972a9e390ce27098",
              "IPY_MODEL_bc430289c31a47a28601c1a26d5ab873"
            ],
            "layout": "IPY_MODEL_4be7929f11ff44b8861b76efad647dc2"
          }
        },
        "b60e181f83844876972a9e390ce27098": {
          "model_module": "@jupyter-widgets/controls",
          "model_name": "LabelModel",
          "model_module_version": "1.5.0",
          "state": {
            "_dom_classes": [],
            "_model_module": "@jupyter-widgets/controls",
            "_model_module_version": "1.5.0",
            "_model_name": "LabelModel",
            "_view_count": null,
            "_view_module": "@jupyter-widgets/controls",
            "_view_module_version": "1.5.0",
            "_view_name": "LabelView",
            "description": "",
            "description_tooltip": null,
            "layout": "IPY_MODEL_77da0af664314748823b74ad065f6eaf",
            "placeholder": "​",
            "style": "IPY_MODEL_b5f4f3e5872e45588f4b3c1dfe98a929",
            "value": "0.001 MB of 0.001 MB uploaded (0.000 MB deduped)\r"
          }
        },
        "bc430289c31a47a28601c1a26d5ab873": {
          "model_module": "@jupyter-widgets/controls",
          "model_name": "FloatProgressModel",
          "model_module_version": "1.5.0",
          "state": {
            "_dom_classes": [],
            "_model_module": "@jupyter-widgets/controls",
            "_model_module_version": "1.5.0",
            "_model_name": "FloatProgressModel",
            "_view_count": null,
            "_view_module": "@jupyter-widgets/controls",
            "_view_module_version": "1.5.0",
            "_view_name": "ProgressView",
            "bar_style": "",
            "description": "",
            "description_tooltip": null,
            "layout": "IPY_MODEL_8bb3d786c5324e70bb574eed885009b8",
            "max": 1,
            "min": 0,
            "orientation": "horizontal",
            "style": "IPY_MODEL_b68835d7ace64b25a837bf0483f47a78",
            "value": 1
          }
        },
        "4be7929f11ff44b8861b76efad647dc2": {
          "model_module": "@jupyter-widgets/base",
          "model_name": "LayoutModel",
          "model_module_version": "1.2.0",
          "state": {
            "_model_module": "@jupyter-widgets/base",
            "_model_module_version": "1.2.0",
            "_model_name": "LayoutModel",
            "_view_count": null,
            "_view_module": "@jupyter-widgets/base",
            "_view_module_version": "1.2.0",
            "_view_name": "LayoutView",
            "align_content": null,
            "align_items": null,
            "align_self": null,
            "border": null,
            "bottom": null,
            "display": null,
            "flex": null,
            "flex_flow": null,
            "grid_area": null,
            "grid_auto_columns": null,
            "grid_auto_flow": null,
            "grid_auto_rows": null,
            "grid_column": null,
            "grid_gap": null,
            "grid_row": null,
            "grid_template_areas": null,
            "grid_template_columns": null,
            "grid_template_rows": null,
            "height": null,
            "justify_content": null,
            "justify_items": null,
            "left": null,
            "margin": null,
            "max_height": null,
            "max_width": null,
            "min_height": null,
            "min_width": null,
            "object_fit": null,
            "object_position": null,
            "order": null,
            "overflow": null,
            "overflow_x": null,
            "overflow_y": null,
            "padding": null,
            "right": null,
            "top": null,
            "visibility": null,
            "width": null
          }
        },
        "77da0af664314748823b74ad065f6eaf": {
          "model_module": "@jupyter-widgets/base",
          "model_name": "LayoutModel",
          "model_module_version": "1.2.0",
          "state": {
            "_model_module": "@jupyter-widgets/base",
            "_model_module_version": "1.2.0",
            "_model_name": "LayoutModel",
            "_view_count": null,
            "_view_module": "@jupyter-widgets/base",
            "_view_module_version": "1.2.0",
            "_view_name": "LayoutView",
            "align_content": null,
            "align_items": null,
            "align_self": null,
            "border": null,
            "bottom": null,
            "display": null,
            "flex": null,
            "flex_flow": null,
            "grid_area": null,
            "grid_auto_columns": null,
            "grid_auto_flow": null,
            "grid_auto_rows": null,
            "grid_column": null,
            "grid_gap": null,
            "grid_row": null,
            "grid_template_areas": null,
            "grid_template_columns": null,
            "grid_template_rows": null,
            "height": null,
            "justify_content": null,
            "justify_items": null,
            "left": null,
            "margin": null,
            "max_height": null,
            "max_width": null,
            "min_height": null,
            "min_width": null,
            "object_fit": null,
            "object_position": null,
            "order": null,
            "overflow": null,
            "overflow_x": null,
            "overflow_y": null,
            "padding": null,
            "right": null,
            "top": null,
            "visibility": null,
            "width": null
          }
        },
        "b5f4f3e5872e45588f4b3c1dfe98a929": {
          "model_module": "@jupyter-widgets/controls",
          "model_name": "DescriptionStyleModel",
          "model_module_version": "1.5.0",
          "state": {
            "_model_module": "@jupyter-widgets/controls",
            "_model_module_version": "1.5.0",
            "_model_name": "DescriptionStyleModel",
            "_view_count": null,
            "_view_module": "@jupyter-widgets/base",
            "_view_module_version": "1.2.0",
            "_view_name": "StyleView",
            "description_width": ""
          }
        },
        "8bb3d786c5324e70bb574eed885009b8": {
          "model_module": "@jupyter-widgets/base",
          "model_name": "LayoutModel",
          "model_module_version": "1.2.0",
          "state": {
            "_model_module": "@jupyter-widgets/base",
            "_model_module_version": "1.2.0",
            "_model_name": "LayoutModel",
            "_view_count": null,
            "_view_module": "@jupyter-widgets/base",
            "_view_module_version": "1.2.0",
            "_view_name": "LayoutView",
            "align_content": null,
            "align_items": null,
            "align_self": null,
            "border": null,
            "bottom": null,
            "display": null,
            "flex": null,
            "flex_flow": null,
            "grid_area": null,
            "grid_auto_columns": null,
            "grid_auto_flow": null,
            "grid_auto_rows": null,
            "grid_column": null,
            "grid_gap": null,
            "grid_row": null,
            "grid_template_areas": null,
            "grid_template_columns": null,
            "grid_template_rows": null,
            "height": null,
            "justify_content": null,
            "justify_items": null,
            "left": null,
            "margin": null,
            "max_height": null,
            "max_width": null,
            "min_height": null,
            "min_width": null,
            "object_fit": null,
            "object_position": null,
            "order": null,
            "overflow": null,
            "overflow_x": null,
            "overflow_y": null,
            "padding": null,
            "right": null,
            "top": null,
            "visibility": null,
            "width": null
          }
        },
        "b68835d7ace64b25a837bf0483f47a78": {
          "model_module": "@jupyter-widgets/controls",
          "model_name": "ProgressStyleModel",
          "model_module_version": "1.5.0",
          "state": {
            "_model_module": "@jupyter-widgets/controls",
            "_model_module_version": "1.5.0",
            "_model_name": "ProgressStyleModel",
            "_view_count": null,
            "_view_module": "@jupyter-widgets/base",
            "_view_module_version": "1.2.0",
            "_view_name": "StyleView",
            "bar_color": null,
            "description_width": ""
          }
        }
      }
    }
  },
  "nbformat": 4,
  "nbformat_minor": 0
}